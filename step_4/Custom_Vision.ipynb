{
 "cells": [
  {
   "cell_type": "code",
   "execution_count": null,
   "id": "c9d9bcbe-7d63-4b72-a842-076588df0a36",
   "metadata": {
    "tags": []
   },
   "outputs": [],
   "source": [
    "import requests\n",
    "from urllib.parse import urlparse\n",
    "from io import BytesIO\n",
    "from PIL import Image, ImageDraw\n",
    "import matplotlib.pyplot as plt\n",
    "\n",
    "from azure.cognitiveservices.vision.customvision.training import CustomVisionTrainingClient\n",
    "from azure.cognitiveservices.vision.customvision.prediction import CustomVisionPredictionClient\n",
    "from azure.cognitiveservices.vision.customvision.training.models import ImageFileCreateBatch, ImageFileCreateEntry, Region\n",
    "from msrest.authentication import ApiKeyCredentials\n",
    "import os, time, uuid"
   ]
  },
  {
   "cell_type": "code",
   "execution_count": null,
   "id": "93ea86a4-4687-4220-aadc-c544ae6e1ee2",
   "metadata": {},
   "outputs": [],
   "source": [
    "ENDPOINT = \"https://customvisionservicertw-prediction.cognitiveservices.azure.com/\"\n",
    "prediction_key = \"c888c9fc0f9d4ffabe6cd726e4fb3203\"\n",
    "prediction_resource_id = \"/subscriptions/008efba3-8843-4539-b815-de7ce33a9cc7/resourceGroups/udacity-course-1/providers/Microsoft.CognitiveServices/accounts/customvisionservicertw-Prediction\"\n",
    "\n",
    "prediction_credentials = ApiKeyCredentials(in_headers={\"Prediction-key\": prediction_key})\n",
    "predictor = CustomVisionPredictionClient(ENDPOINT, prediction_credentials)\n",
    "\n",
    "predictor.api_version"
   ]
  },
  {
   "cell_type": "code",
   "execution_count": null,
   "id": "9cc2703a-446a-4531-8bf9-734c76b305a9",
   "metadata": {},
   "outputs": [],
   "source": [
    "local_image_path = '/Users/rwhitcom/Documents//cd0461-building-computer-vision-solutions-with-azure-project-starter/starter/lighter_test_images'\n",
    "file_name = 'lighter_test_set_1of5.jpg'"
   ]
  },
  {
   "cell_type": "code",
   "execution_count": null,
   "id": "13c04b9f-6a32-4556-8d8c-993197dfb2ab",
   "metadata": {},
   "outputs": [],
   "source": [
    "project_id = \"c32b0bb2-dc3a-4fd8-ba0c-fb1a3c8e7615\"\n",
    "publish_iteration_name = \"Iteration1\""
   ]
  },
  {
   "cell_type": "code",
   "execution_count": null,
   "id": "6e32f3ce-fe71-46f4-b595-481c3aa36f78",
   "metadata": {
    "tags": []
   },
   "outputs": [],
   "source": [
    "try:\n",
    "    with open(os.path.join (local_image_path, file_name), \"rb\") as image_contents:\n",
    "        results = predictor.classify_image(project_id, publish_iteration_name, image_contents.read())\n",
    "\n",
    "        # Display the results.\n",
    "        for prediction in results.predictions:\n",
    "            print(\"\\t\" + prediction.tag_name +\n",
    "                  \": {0:.2f}%\".format(prediction.probability * 100))\n",
    "except Exception as e:\n",
    "    print(e.response.content)"
   ]
  },
  {
   "cell_type": "code",
   "execution_count": null,
   "id": "a34758f6-fdd3-4530-9afc-2a249e2fca08",
   "metadata": {},
   "outputs": [],
   "source": [
    "test_image_url = \"https://github.com/udacity/cd0461-building-computer-vision-solutions-with-azure-project-starter/blob/master/starter/lighter_test_images/lighter_test_set_1of5.jpg?raw=true\""
   ]
  },
  {
   "cell_type": "code",
   "execution_count": null,
   "id": "4558810b-0ac6-42fd-ab9c-1751088dba01",
   "metadata": {},
   "outputs": [],
   "source": [
    "try:\n",
    "    results = predictor.classify_image_url(project_id,publish_iteration_name,url=test_image_url)\n",
    "except Exception as e:\n",
    "    print(e.response.content)"
   ]
  },
  {
   "cell_type": "code",
   "execution_count": null,
   "id": "7e2e9732-bfe9-4cae-b46c-15da8f63c091",
   "metadata": {},
   "outputs": [],
   "source": []
  }
 ],
 "metadata": {
  "kernelspec": {
   "display_name": "Python 3 (ipykernel)",
   "language": "python",
   "name": "python3"
  },
  "language_info": {
   "codemirror_mode": {
    "name": "ipython",
    "version": 3
   },
   "file_extension": ".py",
   "mimetype": "text/x-python",
   "name": "python",
   "nbconvert_exporter": "python",
   "pygments_lexer": "ipython3",
   "version": "3.11.0"
  }
 },
 "nbformat": 4,
 "nbformat_minor": 5
}
