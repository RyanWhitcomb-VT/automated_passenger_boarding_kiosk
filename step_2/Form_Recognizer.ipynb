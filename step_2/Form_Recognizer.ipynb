{
 "cells": [
  {
   "cell_type": "code",
   "execution_count": 1,
   "id": "23a28e30-03fb-48f8-a4ff-4a417bc6527b",
   "metadata": {},
   "outputs": [],
   "source": [
    "from azure.core.credentials import AzureKeyCredential\n",
    "from azure.ai.formrecognizer import FormRecognizerClient\n",
    "import json\n",
    "import pandas as pd"
   ]
  },
  {
   "cell_type": "code",
   "execution_count": 2,
   "id": "f514e82f-eca1-4b4a-8c9c-5600651303aa",
   "metadata": {},
   "outputs": [],
   "source": [
    "AZURE_FORM_RECOGNIZER_ENDPOINT = \"https://form-service-rtw.cognitiveservices.azure.com/\"\n",
    "AZURE_FORM_RECOGNIZER_KEY = \"6752434521604f128f1c6f62236050df\"\n",
    "\n",
    "endpoint = AZURE_FORM_RECOGNIZER_ENDPOINT\n",
    "key = AZURE_FORM_RECOGNIZER_KEY\n",
    "\n",
    "form_recognizer_client = FormRecognizerClient(endpoint=endpoint, credential=AzureKeyCredential(key))"
   ]
  },
  {
   "cell_type": "code",
   "execution_count": 3,
   "id": "08df0d0b-f5a6-4836-a563-e41903831237",
   "metadata": {},
   "outputs": [],
   "source": [
    "id_list = [\n",
    "    \"libby-herold\",\n",
    "    \"sameer-kumar\",\n",
    "    \"james-jackson\",\n",
    "    \"james-webb\",\n",
    "    \"radha-s-kumar\",\n",
    "    \"avkash-chauhan\"\n",
    "]"
   ]
  },
  {
   "cell_type": "code",
   "execution_count": 4,
   "id": "43f1e366-ca9a-4f5a-991b-bcbfbaac3d74",
   "metadata": {},
   "outputs": [],
   "source": [
    "def get_id_card_details(identity_card):\n",
    "    first_name = identity_card.fields.get(\"FirstName\").value\n",
    "    last_name = identity_card.fields.get(\"LastName\").value\n",
    "    dob = identity_card.fields.get(\"DateOfBirth\").value.strftime(\"%-m/%-d/%y\")\n",
    "    \n",
    "    return first_name, last_name, dob"
   ]
  },
  {
   "cell_type": "code",
   "execution_count": 5,
   "id": "70877333-64e6-4343-be7b-3e40f81712bb",
   "metadata": {},
   "outputs": [],
   "source": [
    "flight_manifest = pd.read_csv('../material_preparation_step/flight-manifest-csv/FlightManifest.csv')"
   ]
  },
  {
   "cell_type": "code",
   "execution_count": 6,
   "id": "67045e61-7d66-4aad-aef9-1e2d6aa6785a",
   "metadata": {
    "tags": []
   },
   "outputs": [
    {
     "name": "stdout",
     "output_type": "stream",
     "text": [
      "libby-herold First name, last name, and date of birth all validated with flight manifest\n",
      "sameer-kumar First name, last name, and date of birth all validated with flight manifest\n",
      "james-jackson First name, last name, and date of birth all validated with flight manifest\n",
      "james-webb First name, last name, and date of birth all validated with flight manifest\n",
      "Radha SKumar 3/5/94\n",
      "AVKASH CHAUHAN CHAUHAN 1/1/90\n"
     ]
    }
   ],
   "source": [
    "for id_name in id_list:\n",
    "    content_url = f\"https://github.com/RyanWhitcomb-VT/automated_passenger_boarding_kiosk/blob/main/material_preparation_step/digital_id_template/ca-dl-{id_name}.png?raw=true\"\n",
    "\n",
    "    id_content_from_url = form_recognizer_client.begin_recognize_identity_documents_from_url(content_url)\n",
    "    collected_id_cards = id_content_from_url.result()\n",
    "        \n",
    "    pred_fn, pred_ln, pred_dob = get_id_card_details(collected_id_cards[0])\n",
    "    \n",
    "    temp_df = flight_manifest[(flight_manifest['First Name'] == pred_fn) & (flight_manifest['Last Name'] == pred_ln) & (flight_manifest['DateofBirth'] == pred_dob)]\n",
    "    if not temp_df.empty:\n",
    "        print(f\"{id_name} First name, last name, and date of birth all validated with flight manifest\")\n",
    "    else:\n",
    "        print(pred_fn, pred_ln, pred_dob)\n",
    "    "
   ]
  },
  {
   "cell_type": "markdown",
   "id": "dbcad920-71b2-46e3-a67f-757b7441f0f4",
   "metadata": {},
   "source": [
    "Radha failed validation due to the lack of a space between the middle initial and last name\n",
    "Avkash failed validation due to the capitalization of his name that was unexpected in the manifest"
   ]
  }
 ],
 "metadata": {
  "kernelspec": {
   "display_name": "Python 3 (ipykernel)",
   "language": "python",
   "name": "python3"
  },
  "language_info": {
   "codemirror_mode": {
    "name": "ipython",
    "version": 3
   },
   "file_extension": ".py",
   "mimetype": "text/x-python",
   "name": "python",
   "nbconvert_exporter": "python",
   "pygments_lexer": "ipython3",
   "version": "3.11.0"
  }
 },
 "nbformat": 4,
 "nbformat_minor": 5
}
