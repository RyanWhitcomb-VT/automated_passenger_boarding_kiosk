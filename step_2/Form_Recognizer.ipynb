{
 "cells": [
  {
   "cell_type": "code",
   "execution_count": 3,
   "id": "23a28e30-03fb-48f8-a4ff-4a417bc6527b",
   "metadata": {},
   "outputs": [],
   "source": [
    "from azure.core.credentials import AzureKeyCredential\n",
    "from azure.ai.formrecognizer import FormRecognizerClient"
   ]
  },
  {
   "cell_type": "code",
   "execution_count": 4,
   "id": "f514e82f-eca1-4b4a-8c9c-5600651303aa",
   "metadata": {},
   "outputs": [],
   "source": [
    "AZURE_FORM_RECOGNIZER_ENDPOINT = \"https://form-service-rtw.cognitiveservices.azure.com/\"\n",
    "AZURE_FORM_RECOGNIZER_KEY = \"6752434521604f128f1c6f62236050df\"\n",
    "\n",
    "endpoint = AZURE_FORM_RECOGNIZER_ENDPOINT\n",
    "key = AZURE_FORM_RECOGNIZER_KEY\n",
    "\n",
    "form_recognizer_client = FormRecognizerClient(endpoint=endpoint, credential=AzureKeyCredential(key))"
   ]
  },
  {
   "cell_type": "code",
   "execution_count": 13,
   "id": "fd542b3a-5eaf-4b56-a0d8-c45bb5602f87",
   "metadata": {},
   "outputs": [],
   "source": [
    "with open(\"../material_preparation_step/digital_id_template/ca-dl-james-webb.png\", \"rb\") as f:\n",
    "    poller = form_recognizer_client.begin_recognize_content(form=f)\n",
    "form_pages = poller.result()"
   ]
  },
  {
   "cell_type": "code",
   "execution_count": 14,
   "id": "79196c4e-77f5-4a0c-a1b8-e1e783e356df",
   "metadata": {},
   "outputs": [
    {
     "data": {
      "text/plain": [
       "[FormPage(page_number=1, text_angle=0.0, width=507.0, height=310.0, unit=pixel, tables=[], lines=[FormLine(text=California, bounding_box=[Point(x=27.0, y=7.0), Point(x=195.0, y=7.0), Point(x=195.0, y=39.0), Point(x=27.0, y=39.0)], words=[FormWord(text=California, bounding_box=[Point(x=28.0, y=8.0), Point(x=192.0, y=8.0), Point(x=191.0, y=40.0), Point(x=28.0, y=40.0)], confidence=0.992, page_number=1, kind=word)], page_number=1, kind=line, appearance=TextAppearance(style_name=other, style_confidence=0.878)), FormLine(text=DRIVER LICENSE, bounding_box=[Point(x=240.0, y=10.0), Point(x=382.0, y=10.0), Point(x=382.0, y=27.0), Point(x=240.0, y=27.0)], words=[FormWord(text=DRIVER, bounding_box=[Point(x=240.0, y=11.0), Point(x=299.0, y=11.0), Point(x=299.0, y=28.0), Point(x=240.0, y=28.0)], confidence=0.991, page_number=1, kind=word), FormWord(text=LICENSE, bounding_box=[Point(x=305.0, y=11.0), Point(x=378.0, y=11.0), Point(x=377.0, y=27.0), Point(x=305.0, y=28.0)], confidence=0.996, page_number=1, kind=word)], page_n]"
      ]
     },
     "execution_count": 14,
     "metadata": {},
     "output_type": "execute_result"
    }
   ],
   "source": [
    "form_pages"
   ]
  },
  {
   "cell_type": "code",
   "execution_count": 15,
   "id": "52ddefbb-33e3-4721-9447-5bbfa3a8f3b7",
   "metadata": {},
   "outputs": [],
   "source": [
    "def get_id_card_details(identity_card):\n",
    "    first_name = identity_card.fields.get(\"FirstName\")\n",
    "    if first_name:\n",
    "        print(\"First Name: {} has confidence: {}\".format(first_name.value, first_name.confidence))\n",
    "    last_name = identity_card.fields.get(\"LastName\")\n",
    "    if last_name:\n",
    "        print(\"Last Name: {} has confidence: {}\".format(last_name.value, last_name.confidence))"
   ]
  },
  {
   "cell_type": "code",
   "execution_count": 16,
   "id": "3e71a391-cb18-406f-a8a1-78539fd55636",
   "metadata": {},
   "outputs": [
    {
     "ename": "AttributeError",
     "evalue": "'FormPage' object has no attribute 'fields'",
     "output_type": "error",
     "traceback": [
      "\u001b[0;31m---------------------------------------------------------------------------\u001b[0m",
      "\u001b[0;31mAttributeError\u001b[0m                            Traceback (most recent call last)",
      "Cell \u001b[0;32mIn [16], line 1\u001b[0m\n\u001b[0;32m----> 1\u001b[0m \u001b[43mget_id_card_details\u001b[49m\u001b[43m(\u001b[49m\u001b[43mform_pages\u001b[49m\u001b[43m[\u001b[49m\u001b[38;5;241;43m0\u001b[39;49m\u001b[43m]\u001b[49m\u001b[43m)\u001b[49m\n",
      "Cell \u001b[0;32mIn [15], line 2\u001b[0m, in \u001b[0;36mget_id_card_details\u001b[0;34m(identity_card)\u001b[0m\n\u001b[1;32m      1\u001b[0m \u001b[38;5;28;01mdef\u001b[39;00m \u001b[38;5;21mget_id_card_details\u001b[39m(identity_card):\n\u001b[0;32m----> 2\u001b[0m     first_name \u001b[38;5;241m=\u001b[39m \u001b[43midentity_card\u001b[49m\u001b[38;5;241;43m.\u001b[39;49m\u001b[43mfields\u001b[49m\u001b[38;5;241m.\u001b[39mget(\u001b[38;5;124m\"\u001b[39m\u001b[38;5;124mFirstName\u001b[39m\u001b[38;5;124m\"\u001b[39m)\n\u001b[1;32m      3\u001b[0m     \u001b[38;5;28;01mif\u001b[39;00m first_name:\n\u001b[1;32m      4\u001b[0m         \u001b[38;5;28mprint\u001b[39m(\u001b[38;5;124m\"\u001b[39m\u001b[38;5;124mFirst Name: \u001b[39m\u001b[38;5;132;01m{}\u001b[39;00m\u001b[38;5;124m has confidence: \u001b[39m\u001b[38;5;132;01m{}\u001b[39;00m\u001b[38;5;124m\"\u001b[39m\u001b[38;5;241m.\u001b[39mformat(first_name\u001b[38;5;241m.\u001b[39mvalue, first_name\u001b[38;5;241m.\u001b[39mconfidence))\n",
      "\u001b[0;31mAttributeError\u001b[0m: 'FormPage' object has no attribute 'fields'"
     ]
    }
   ],
   "source": [
    "get_id_card_details(form_pages[0])"
   ]
  },
  {
   "cell_type": "code",
   "execution_count": 19,
   "id": "4c0a385c-d776-4b51-9541-9cc6fac64605",
   "metadata": {},
   "outputs": [
    {
     "data": {
      "text/plain": [
       "FormPage(page_number=1, text_angle=0.0, width=507.0, height=310.0, unit=pixel, tables=[], lines=[FormLine(text=California, bounding_box=[Point(x=27.0, y=7.0), Point(x=195.0, y=7.0), Point(x=195.0, y=39.0), Point(x=27.0, y=39.0)], words=[FormWord(text=California, bounding_box=[Point(x=28.0, y=8.0), Point(x=192.0, y=8.0), Point(x=191.0, y=40.0), Point(x=28.0, y=40.0)], confidence=0.992, page_number=1, kind=word)], page_number=1, kind=line, appearance=TextAppearance(style_name=other, style_confidence=0.878)), FormLine(text=DRIVER LICENSE, bounding_box=[Point(x=240.0, y=10.0), Point(x=382.0, y=10.0), Point(x=382.0, y=27.0), Point(x=240.0, y=27.0)], words=[FormWord(text=DRIVER, bounding_box=[Point(x=240.0, y=11.0), Point(x=299.0, y=11.0), Point(x=299.0, y=28.0), Point(x=240.0, y=28.0)], confidence=0.991, page_number=1, kind=word), FormWord(text=LICENSE, bounding_box=[Point(x=305.0, y=11.0), Point(x=378.0, y=11.0), Point(x=377.0, y=27.0), Point(x=305.0, y=28.0)], confidence=0.996, page_number=1, kind=word)], page_n"
      ]
     },
     "execution_count": 19,
     "metadata": {},
     "output_type": "execute_result"
    }
   ],
   "source": [
    "form_pages[0]"
   ]
  },
  {
   "cell_type": "code",
   "execution_count": 24,
   "id": "b35716fd-6479-4543-8855-7817a4693faf",
   "metadata": {},
   "outputs": [
    {
     "name": "stdout",
     "output_type": "stream",
     "text": [
      "California\n",
      "DRIVER LICENSE\n",
      "DL D4357789\n",
      "CLASS C\n",
      "EXP\n",
      "01/10/2026\n",
      "END\n",
      "LN\n",
      "Webb\n",
      "FN\n",
      "James\n",
      "DOB 12/15/1970\n",
      "RSTR\n",
      "DONOR\n",
      "SEX M\n",
      "HAIR BRN\n",
      "EYES BLK\n",
      "HGT 5' 11\"\n",
      "WGT 192 1b\n",
      "ISS\n",
      "D\n",
      "08/08/2020\n"
     ]
    }
   ],
   "source": [
    "for word in form_pages[0].lines:\n",
    "    print(word.text)"
   ]
  },
  {
   "cell_type": "code",
   "execution_count": 27,
   "id": "7df29b00-165e-4e59-b57f-29d3b6dbf870",
   "metadata": {},
   "outputs": [
    {
     "data": {
      "text/plain": [
       "FormLine(text=LN, bounding_box=[Point(x=177.0, y=116.0), Point(x=197.0, y=114.0), Point(x=197.0, y=127.0), Point(x=177.0, y=128.0)], words=[FormWord(text=LN, bounding_box=[Point(x=177.0, y=115.0), Point(x=191.0, y=114.0), Point(x=192.0, y=127.0), Point(x=177.0, y=128.0)], confidence=0.986, page_number=1, kind=word)], page_number=1, kind=line, appearance=TextAppearance(style_name=other, style_confidence=0.878))"
      ]
     },
     "execution_count": 27,
     "metadata": {},
     "output_type": "execute_result"
    }
   ],
   "source": [
    "form_pages[0].lines[7]"
   ]
  },
  {
   "cell_type": "code",
   "execution_count": 34,
   "id": "08df0d0b-f5a6-4836-a563-e41903831237",
   "metadata": {},
   "outputs": [],
   "source": [
    "content_url = \"https://raw.githubusercontent.com/udacity/cd0461-building-computer-vision-solutions-with-azure-exercises/main/resources/ca-dl-james-webb.png.png\""
   ]
  },
  {
   "cell_type": "code",
   "execution_count": 35,
   "id": "67045e61-7d66-4aad-aef9-1e2d6aa6785a",
   "metadata": {},
   "outputs": [
    {
     "ename": "HttpResponseError",
     "evalue": "(InvalidImage) The input data is not a valid image or password protected.\nCode: InvalidImage\nMessage: The input data is not a valid image or password protected.",
     "output_type": "error",
     "traceback": [
      "\u001b[0;31m---------------------------------------------------------------------------\u001b[0m",
      "\u001b[0;31mHttpResponseError\u001b[0m                         Traceback (most recent call last)",
      "Cell \u001b[0;32mIn [35], line 1\u001b[0m\n\u001b[0;32m----> 1\u001b[0m id_content_from_url \u001b[38;5;241m=\u001b[39m \u001b[43mform_recognizer_client\u001b[49m\u001b[38;5;241;43m.\u001b[39;49m\u001b[43mbegin_recognize_identity_documents_from_url\u001b[49m\u001b[43m(\u001b[49m\u001b[43mcontent_url\u001b[49m\u001b[43m)\u001b[49m\n",
      "File \u001b[0;32m~/opt/miniconda3/envs/ai_engineer/lib/python3.11/site-packages/azure/core/tracing/decorator.py:78\u001b[0m, in \u001b[0;36mdistributed_trace.<locals>.decorator.<locals>.wrapper_use_tracer\u001b[0;34m(*args, **kwargs)\u001b[0m\n\u001b[1;32m     76\u001b[0m span_impl_type \u001b[38;5;241m=\u001b[39m settings\u001b[38;5;241m.\u001b[39mtracing_implementation()\n\u001b[1;32m     77\u001b[0m \u001b[38;5;28;01mif\u001b[39;00m span_impl_type \u001b[38;5;129;01mis\u001b[39;00m \u001b[38;5;28;01mNone\u001b[39;00m:\n\u001b[0;32m---> 78\u001b[0m     \u001b[38;5;28;01mreturn\u001b[39;00m \u001b[43mfunc\u001b[49m\u001b[43m(\u001b[49m\u001b[38;5;241;43m*\u001b[39;49m\u001b[43margs\u001b[49m\u001b[43m,\u001b[49m\u001b[43m \u001b[49m\u001b[38;5;241;43m*\u001b[39;49m\u001b[38;5;241;43m*\u001b[39;49m\u001b[43mkwargs\u001b[49m\u001b[43m)\u001b[49m\n\u001b[1;32m     80\u001b[0m \u001b[38;5;66;03m# Merge span is parameter is set, but only if no explicit parent are passed\u001b[39;00m\n\u001b[1;32m     81\u001b[0m \u001b[38;5;28;01mif\u001b[39;00m merge_span \u001b[38;5;129;01mand\u001b[39;00m \u001b[38;5;129;01mnot\u001b[39;00m passed_in_parent:\n",
      "File \u001b[0;32m~/opt/miniconda3/envs/ai_engineer/lib/python3.11/site-packages/azure/ai/formrecognizer/_form_recognizer_client.py:429\u001b[0m, in \u001b[0;36mFormRecognizerClient.begin_recognize_identity_documents_from_url\u001b[0;34m(self, identity_document_url, **kwargs)\u001b[0m\n\u001b[1;32m    426\u001b[0m include_field_elements \u001b[38;5;241m=\u001b[39m kwargs\u001b[38;5;241m.\u001b[39mpop(\u001b[38;5;124m\"\u001b[39m\u001b[38;5;124minclude_field_elements\u001b[39m\u001b[38;5;124m\"\u001b[39m, \u001b[38;5;28;01mFalse\u001b[39;00m)\n\u001b[1;32m    428\u001b[0m \u001b[38;5;28;01mtry\u001b[39;00m:\n\u001b[0;32m--> 429\u001b[0m     \u001b[38;5;28;01mreturn\u001b[39;00m \u001b[38;5;28;43mself\u001b[39;49m\u001b[38;5;241;43m.\u001b[39;49m\u001b[43m_client\u001b[49m\u001b[38;5;241;43m.\u001b[39;49m\u001b[43mbegin_analyze_id_document_async\u001b[49m\u001b[43m(\u001b[49m\u001b[43m  \u001b[49m\u001b[38;5;66;43;03m# type: ignore\u001b[39;49;00m\n\u001b[1;32m    430\u001b[0m \u001b[43m        \u001b[49m\u001b[43mfile_stream\u001b[49m\u001b[38;5;241;43m=\u001b[39;49m\u001b[43m{\u001b[49m\u001b[38;5;124;43m\"\u001b[39;49m\u001b[38;5;124;43msource\u001b[39;49m\u001b[38;5;124;43m\"\u001b[39;49m\u001b[43m:\u001b[49m\u001b[43m \u001b[49m\u001b[43midentity_document_url\u001b[49m\u001b[43m}\u001b[49m\u001b[43m,\u001b[49m\u001b[43m  \u001b[49m\u001b[38;5;66;43;03m# type: ignore\u001b[39;49;00m\n\u001b[1;32m    431\u001b[0m \u001b[43m        \u001b[49m\u001b[43minclude_text_details\u001b[49m\u001b[38;5;241;43m=\u001b[39;49m\u001b[43minclude_field_elements\u001b[49m\u001b[43m,\u001b[49m\n\u001b[1;32m    432\u001b[0m \u001b[43m        \u001b[49m\u001b[38;5;28;43mcls\u001b[39;49m\u001b[38;5;241;43m=\u001b[39;49m\u001b[43mkwargs\u001b[49m\u001b[38;5;241;43m.\u001b[39;49m\u001b[43mpop\u001b[49m\u001b[43m(\u001b[49m\u001b[38;5;124;43m\"\u001b[39;49m\u001b[38;5;124;43mcls\u001b[39;49m\u001b[38;5;124;43m\"\u001b[39;49m\u001b[43m,\u001b[49m\u001b[43m \u001b[49m\u001b[38;5;28;43mself\u001b[39;49m\u001b[38;5;241;43m.\u001b[39;49m\u001b[43m_prebuilt_callback\u001b[49m\u001b[43m)\u001b[49m\u001b[43m,\u001b[49m\n\u001b[1;32m    433\u001b[0m \u001b[43m        \u001b[49m\u001b[43mpolling\u001b[49m\u001b[38;5;241;43m=\u001b[39;49m\u001b[38;5;28;43;01mTrue\u001b[39;49;00m\u001b[43m,\u001b[49m\n\u001b[1;32m    434\u001b[0m \u001b[43m        \u001b[49m\u001b[38;5;241;43m*\u001b[39;49m\u001b[38;5;241;43m*\u001b[39;49m\u001b[43mkwargs\u001b[49m\n\u001b[1;32m    435\u001b[0m \u001b[43m    \u001b[49m\u001b[43m)\u001b[49m\n\u001b[1;32m    436\u001b[0m \u001b[38;5;28;01mexcept\u001b[39;00m \u001b[38;5;167;01mValueError\u001b[39;00m \u001b[38;5;28;01mas\u001b[39;00m e:\n\u001b[1;32m    437\u001b[0m     \u001b[38;5;28;01mif\u001b[39;00m \u001b[38;5;124m\"\u001b[39m\u001b[38;5;124mbegin_analyze_id_document_async\u001b[39m\u001b[38;5;124m\"\u001b[39m \u001b[38;5;129;01min\u001b[39;00m \u001b[38;5;28mstr\u001b[39m(e):\n",
      "File \u001b[0;32m~/opt/miniconda3/envs/ai_engineer/lib/python3.11/site-packages/azure/ai/formrecognizer/_generated/_operations_mixin.py:224\u001b[0m, in \u001b[0;36mFormRecognizerClientOperationsMixin.begin_analyze_id_document_async\u001b[0;34m(self, include_text_details, pages, file_stream, **kwargs)\u001b[0m\n\u001b[1;32m    222\u001b[0m mixin_instance\u001b[38;5;241m.\u001b[39m_serialize\u001b[38;5;241m.\u001b[39mclient_side_validation \u001b[38;5;241m=\u001b[39m \u001b[38;5;28;01mFalse\u001b[39;00m\n\u001b[1;32m    223\u001b[0m mixin_instance\u001b[38;5;241m.\u001b[39m_deserialize \u001b[38;5;241m=\u001b[39m Deserializer(\u001b[38;5;28mself\u001b[39m\u001b[38;5;241m.\u001b[39m_models_dict(api_version))\n\u001b[0;32m--> 224\u001b[0m \u001b[38;5;28;01mreturn\u001b[39;00m \u001b[43mmixin_instance\u001b[49m\u001b[38;5;241;43m.\u001b[39;49m\u001b[43mbegin_analyze_id_document_async\u001b[49m\u001b[43m(\u001b[49m\u001b[43minclude_text_details\u001b[49m\u001b[43m,\u001b[49m\u001b[43m \u001b[49m\u001b[43mpages\u001b[49m\u001b[43m,\u001b[49m\u001b[43m \u001b[49m\u001b[43mfile_stream\u001b[49m\u001b[43m,\u001b[49m\u001b[43m \u001b[49m\u001b[38;5;241;43m*\u001b[39;49m\u001b[38;5;241;43m*\u001b[39;49m\u001b[43mkwargs\u001b[49m\u001b[43m)\u001b[49m\n",
      "File \u001b[0;32m~/opt/miniconda3/envs/ai_engineer/lib/python3.11/site-packages/azure/core/tracing/decorator.py:78\u001b[0m, in \u001b[0;36mdistributed_trace.<locals>.decorator.<locals>.wrapper_use_tracer\u001b[0;34m(*args, **kwargs)\u001b[0m\n\u001b[1;32m     76\u001b[0m span_impl_type \u001b[38;5;241m=\u001b[39m settings\u001b[38;5;241m.\u001b[39mtracing_implementation()\n\u001b[1;32m     77\u001b[0m \u001b[38;5;28;01mif\u001b[39;00m span_impl_type \u001b[38;5;129;01mis\u001b[39;00m \u001b[38;5;28;01mNone\u001b[39;00m:\n\u001b[0;32m---> 78\u001b[0m     \u001b[38;5;28;01mreturn\u001b[39;00m \u001b[43mfunc\u001b[49m\u001b[43m(\u001b[49m\u001b[38;5;241;43m*\u001b[39;49m\u001b[43margs\u001b[49m\u001b[43m,\u001b[49m\u001b[43m \u001b[49m\u001b[38;5;241;43m*\u001b[39;49m\u001b[38;5;241;43m*\u001b[39;49m\u001b[43mkwargs\u001b[49m\u001b[43m)\u001b[49m\n\u001b[1;32m     80\u001b[0m \u001b[38;5;66;03m# Merge span is parameter is set, but only if no explicit parent are passed\u001b[39;00m\n\u001b[1;32m     81\u001b[0m \u001b[38;5;28;01mif\u001b[39;00m merge_span \u001b[38;5;129;01mand\u001b[39;00m \u001b[38;5;129;01mnot\u001b[39;00m passed_in_parent:\n",
      "File \u001b[0;32m~/opt/miniconda3/envs/ai_engineer/lib/python3.11/site-packages/azure/ai/formrecognizer/_generated/v2_1/operations/_form_recognizer_client_operations.py:2187\u001b[0m, in \u001b[0;36mFormRecognizerClientOperationsMixin.begin_analyze_id_document_async\u001b[0;34m(self, include_text_details, pages, file_stream, content_type, **kwargs)\u001b[0m\n\u001b[1;32m   2185\u001b[0m cont_token \u001b[38;5;241m=\u001b[39m kwargs\u001b[38;5;241m.\u001b[39mpop(\u001b[38;5;124m'\u001b[39m\u001b[38;5;124mcontinuation_token\u001b[39m\u001b[38;5;124m'\u001b[39m, \u001b[38;5;28;01mNone\u001b[39;00m)  \u001b[38;5;66;03m# type: Optional[str]\u001b[39;00m\n\u001b[1;32m   2186\u001b[0m \u001b[38;5;28;01mif\u001b[39;00m cont_token \u001b[38;5;129;01mis\u001b[39;00m \u001b[38;5;28;01mNone\u001b[39;00m:\n\u001b[0;32m-> 2187\u001b[0m     raw_result \u001b[38;5;241m=\u001b[39m \u001b[38;5;28;43mself\u001b[39;49m\u001b[38;5;241;43m.\u001b[39;49m\u001b[43m_analyze_id_document_async_initial\u001b[49m\u001b[43m(\u001b[49m\u001b[43m  \u001b[49m\u001b[38;5;66;43;03m# type: ignore\u001b[39;49;00m\n\u001b[1;32m   2188\u001b[0m \u001b[43m        \u001b[49m\u001b[43minclude_text_details\u001b[49m\u001b[38;5;241;43m=\u001b[39;49m\u001b[43minclude_text_details\u001b[49m\u001b[43m,\u001b[49m\n\u001b[1;32m   2189\u001b[0m \u001b[43m        \u001b[49m\u001b[43mpages\u001b[49m\u001b[38;5;241;43m=\u001b[39;49m\u001b[43mpages\u001b[49m\u001b[43m,\u001b[49m\n\u001b[1;32m   2190\u001b[0m \u001b[43m        \u001b[49m\u001b[43mfile_stream\u001b[49m\u001b[38;5;241;43m=\u001b[39;49m\u001b[43mfile_stream\u001b[49m\u001b[43m,\u001b[49m\n\u001b[1;32m   2191\u001b[0m \u001b[43m        \u001b[49m\u001b[43mcontent_type\u001b[49m\u001b[38;5;241;43m=\u001b[39;49m\u001b[43mcontent_type\u001b[49m\u001b[43m,\u001b[49m\n\u001b[1;32m   2192\u001b[0m \u001b[43m        \u001b[49m\u001b[38;5;28;43mcls\u001b[39;49m\u001b[38;5;241;43m=\u001b[39;49m\u001b[38;5;28;43;01mlambda\u001b[39;49;00m\u001b[43m \u001b[49m\u001b[43mx\u001b[49m\u001b[43m,\u001b[49m\u001b[43my\u001b[49m\u001b[43m,\u001b[49m\u001b[43mz\u001b[49m\u001b[43m:\u001b[49m\u001b[43m \u001b[49m\u001b[43mx\u001b[49m\u001b[43m,\u001b[49m\n\u001b[1;32m   2193\u001b[0m \u001b[43m        \u001b[49m\u001b[43mheaders\u001b[49m\u001b[38;5;241;43m=\u001b[39;49m\u001b[43m_headers\u001b[49m\u001b[43m,\u001b[49m\n\u001b[1;32m   2194\u001b[0m \u001b[43m        \u001b[49m\u001b[43mparams\u001b[49m\u001b[38;5;241;43m=\u001b[39;49m\u001b[43m_params\u001b[49m\u001b[43m,\u001b[49m\n\u001b[1;32m   2195\u001b[0m \u001b[43m        \u001b[49m\u001b[38;5;241;43m*\u001b[39;49m\u001b[38;5;241;43m*\u001b[39;49m\u001b[43mkwargs\u001b[49m\n\u001b[1;32m   2196\u001b[0m \u001b[43m    \u001b[49m\u001b[43m)\u001b[49m\n\u001b[1;32m   2197\u001b[0m kwargs\u001b[38;5;241m.\u001b[39mpop(\u001b[38;5;124m'\u001b[39m\u001b[38;5;124merror_map\u001b[39m\u001b[38;5;124m'\u001b[39m, \u001b[38;5;28;01mNone\u001b[39;00m)\n\u001b[1;32m   2199\u001b[0m \u001b[38;5;28;01mdef\u001b[39;00m \u001b[38;5;21mget_long_running_output\u001b[39m(pipeline_response):\n",
      "File \u001b[0;32m~/opt/miniconda3/envs/ai_engineer/lib/python3.11/site-packages/azure/ai/formrecognizer/_generated/v2_1/operations/_form_recognizer_client_operations.py:2121\u001b[0m, in \u001b[0;36mFormRecognizerClientOperationsMixin._analyze_id_document_async_initial\u001b[0;34m(self, include_text_details, pages, file_stream, content_type, **kwargs)\u001b[0m\n\u001b[1;32m   2119\u001b[0m \u001b[38;5;28;01mif\u001b[39;00m response\u001b[38;5;241m.\u001b[39mstatus_code \u001b[38;5;129;01mnot\u001b[39;00m \u001b[38;5;129;01min\u001b[39;00m [\u001b[38;5;241m202\u001b[39m]:\n\u001b[1;32m   2120\u001b[0m     map_error(status_code\u001b[38;5;241m=\u001b[39mresponse\u001b[38;5;241m.\u001b[39mstatus_code, response\u001b[38;5;241m=\u001b[39mresponse, error_map\u001b[38;5;241m=\u001b[39merror_map)\n\u001b[0;32m-> 2121\u001b[0m     \u001b[38;5;28;01mraise\u001b[39;00m HttpResponseError(response\u001b[38;5;241m=\u001b[39mresponse)\n\u001b[1;32m   2123\u001b[0m response_headers \u001b[38;5;241m=\u001b[39m {}\n\u001b[1;32m   2124\u001b[0m response_headers[\u001b[38;5;124m'\u001b[39m\u001b[38;5;124mOperation-Location\u001b[39m\u001b[38;5;124m'\u001b[39m]\u001b[38;5;241m=\u001b[39m\u001b[38;5;28mself\u001b[39m\u001b[38;5;241m.\u001b[39m_deserialize(\u001b[38;5;124m'\u001b[39m\u001b[38;5;124mstr\u001b[39m\u001b[38;5;124m'\u001b[39m, response\u001b[38;5;241m.\u001b[39mheaders\u001b[38;5;241m.\u001b[39mget(\u001b[38;5;124m'\u001b[39m\u001b[38;5;124mOperation-Location\u001b[39m\u001b[38;5;124m'\u001b[39m))\n",
      "\u001b[0;31mHttpResponseError\u001b[0m: (InvalidImage) The input data is not a valid image or password protected.\nCode: InvalidImage\nMessage: The input data is not a valid image or password protected."
     ]
    }
   ],
   "source": [
    "id_content_from_url = form_recognizer_client.begin_recognize_identity_documents_from_url(content_url)"
   ]
  },
  {
   "cell_type": "code",
   "execution_count": null,
   "id": "bcece00a-0551-4b67-8da1-d19f7bcee3f0",
   "metadata": {},
   "outputs": [],
   "source": [
    "collected_id_cards = id_content_from_url.result()"
   ]
  },
  {
   "cell_type": "code",
   "execution_count": 31,
   "id": "494022b9-da41-4afa-89ba-536f2588be08",
   "metadata": {},
   "outputs": [
    {
     "data": {
      "text/plain": [
       "[RecognizedForm(form_type=prebuilt:idDocument:driverLicense, fields={'Address': FormField(value_type=string, label_data=None, value_data=FieldData(page_number=1, text=1234 Circle Ave, Apt 123 San Mateo, CA, 94401, bounding_box=[Point(x=180.0, y=149.0), Point(x=329.0, y=149.0), Point(x=329.0, y=182.0), Point(x=180.0, y=182.0)], field_elements=None), name=Address, value='1234 Circle Ave, Apt 123 San Mateo, CA, 94401', confidence=0.657), 'CountryRegion': FormField(value_type=countryRegion, label_data=None, value_data=None, name=CountryRegion, value='USA', confidence=0.99), 'DateOfBirth': FormField(value_type=date, label_data=None, value_data=FieldData(page_number=1, text=01/01/1990, bounding_box=[Point(x=208.0, y=182.0), Point(x=285.0, y=181.0), Point(x=286.0, y=196.0), Point(x=208.0, y=196.0)], field_elements=None), name=DateOfBirth, value=datetime.date(1990, 1, 1), confidence=0.995), 'DateOfExpiration': FormField(value_type=date, label_data=None, value_data=FieldData(page_number=1, text=01/01/2025, bounding_box]"
      ]
     },
     "execution_count": 31,
     "metadata": {},
     "output_type": "execute_result"
    }
   ],
   "source": [
    "collected_id_cards"
   ]
  },
  {
   "cell_type": "code",
   "execution_count": 32,
   "id": "43f1e366-ca9a-4f5a-991b-bcbfbaac3d74",
   "metadata": {},
   "outputs": [],
   "source": [
    "def get_id_card_details(identity_card):\n",
    "    first_name = identity_card.fields.get(\"FirstName\")\n",
    "    if first_name:\n",
    "        print(\"First Name: {} has confidence: {}\".format(first_name.value, first_name.confidence))\n",
    "    last_name = identity_card.fields.get(\"LastName\")\n",
    "    if last_name:\n",
    "        print(\"Last Name: {} has confidence: {}\".format(last_name.value, last_name.confidence))\n",
    "    document_number = identity_card.fields.get(\"DocumentNumber\")\n",
    "    if document_number:\n",
    "        print(\"Document Number: {} has confidence: {}\".format(document_number.value, document_number.confidence))\n",
    "    dob = identity_card.fields.get(\"DateOfBirth\")\n",
    "    if dob:\n",
    "        print(\"Date of Birth: {} has confidence: {}\".format(dob.value, dob.confidence))\n",
    "    doe = identity_card.fields.get(\"DateOfExpiration\")\n",
    "    if doe:\n",
    "        print(\"Date of Expiration: {} has confidence: {}\".format(doe.value, doe.confidence))\n",
    "    sex = identity_card.fields.get(\"Sex\")\n",
    "    if sex:\n",
    "        print(\"Sex: {} has confidence: {}\".format(sex.value, sex.confidence))\n",
    "    address = identity_card.fields.get(\"Address\")\n",
    "    if address:\n",
    "        print(\"Address: {} has confidence: {}\".format(address.value, address.confidence))\n",
    "    country_region = identity_card.fields.get(\"CountryRegion\")\n",
    "    if country_region:\n",
    "        print(\"Country/Region: {} has confidence: {}\".format(country_region.value, country_region.confidence))\n",
    "    region = identity_card.fields.get(\"Region\")\n",
    "    if region:\n",
    "        print(\"Region: {} has confidence: {}\".format(region.value, region.confidence))"
   ]
  },
  {
   "cell_type": "code",
   "execution_count": 33,
   "id": "7b0f0ec0-ce47-41da-ad20-1a0b8ccea119",
   "metadata": {},
   "outputs": [
    {
     "name": "stdout",
     "output_type": "stream",
     "text": [
      "First Name: AVKASH CHAUHAN has confidence: 0.781\n",
      "Last Name: CHAUHAN has confidence: 0.895\n",
      "Document Number: D1234578 has confidence: 0.995\n",
      "Date of Birth: 1990-01-01 has confidence: 0.995\n",
      "Date of Expiration: 2025-01-01 has confidence: 0.99\n",
      "Sex: M has confidence: 0.985\n",
      "Address: 1234 Circle Ave, Apt 123 San Mateo, CA, 94401 has confidence: 0.657\n",
      "Country/Region: USA has confidence: 0.99\n",
      "Region: California has confidence: 0.983\n"
     ]
    }
   ],
   "source": [
    "get_id_card_details(collected_id_cards[0])"
   ]
  },
  {
   "cell_type": "code",
   "execution_count": null,
   "id": "cc52712b-fbcd-4a55-aa95-7bc82108ce2c",
   "metadata": {},
   "outputs": [],
   "source": []
  }
 ],
 "metadata": {
  "kernelspec": {
   "display_name": "Python 3 (ipykernel)",
   "language": "python",
   "name": "python3"
  },
  "language_info": {
   "codemirror_mode": {
    "name": "ipython",
    "version": 3
   },
   "file_extension": ".py",
   "mimetype": "text/x-python",
   "name": "python",
   "nbconvert_exporter": "python",
   "pygments_lexer": "ipython3",
   "version": "3.11.0"
  }
 },
 "nbformat": 4,
 "nbformat_minor": 5
}
