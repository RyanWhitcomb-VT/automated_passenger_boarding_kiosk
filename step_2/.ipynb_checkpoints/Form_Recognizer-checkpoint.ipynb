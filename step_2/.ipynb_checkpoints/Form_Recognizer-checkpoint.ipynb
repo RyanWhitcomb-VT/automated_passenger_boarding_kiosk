{
 "cells": [
  {
   "cell_type": "code",
   "execution_count": 1,
   "id": "23a28e30-03fb-48f8-a4ff-4a417bc6527b",
   "metadata": {},
   "outputs": [],
   "source": [
    "from azure.core.credentials import AzureKeyCredential\n",
    "from azure.ai.formrecognizer import FormRecognizerClient\n",
    "import json"
   ]
  },
  {
   "cell_type": "code",
   "execution_count": 2,
   "id": "f514e82f-eca1-4b4a-8c9c-5600651303aa",
   "metadata": {},
   "outputs": [],
   "source": [
    "AZURE_FORM_RECOGNIZER_ENDPOINT = \"https://form-service-rtw.cognitiveservices.azure.com/\"\n",
    "AZURE_FORM_RECOGNIZER_KEY = \"6752434521604f128f1c6f62236050df\"\n",
    "\n",
    "endpoint = AZURE_FORM_RECOGNIZER_ENDPOINT\n",
    "key = AZURE_FORM_RECOGNIZER_KEY\n",
    "\n",
    "form_recognizer_client = FormRecognizerClient(endpoint=endpoint, credential=AzureKeyCredential(key))"
   ]
  },
  {
   "cell_type": "code",
   "execution_count": 3,
   "id": "08df0d0b-f5a6-4836-a563-e41903831237",
   "metadata": {},
   "outputs": [],
   "source": [
    "id_list = [\n",
    "    \"libby-herold\",\n",
    "    \"sameer-kumar\",\n",
    "    \"james-jackson\",\n",
    "    \"james-webb\",\n",
    "    \"radha-s-kumar\",\n",
    "    \"avkash-chauhan\"\n",
    "]"
   ]
  },
  {
   "cell_type": "code",
   "execution_count": 4,
   "id": "43f1e366-ca9a-4f5a-991b-bcbfbaac3d74",
   "metadata": {},
   "outputs": [],
   "source": [
    "def get_id_card_details(identity_card):\n",
    "    first_name = identity_card.fields.get(\"FirstName\")\n",
    "    if first_name:\n",
    "        print(\"First Name: {} has confidence: {}\".format(first_name.value, first_name.confidence))\n",
    "    last_name = identity_card.fields.get(\"LastName\")\n",
    "    if last_name:\n",
    "        print(\"Last Name: {} has confidence: {}\".format(last_name.value, last_name.confidence))\n",
    "    dob = identity_card.fields.get(\"DateOfBirth\")\n",
    "    if dob:\n",
    "        print(\"Date of Birth: {} has confidence: {}\".format(dob.value, dob.confidence))\n",
    "    doe = identity_card.fields.get(\"DateOfExpiration\")"
   ]
  },
  {
   "cell_type": "code",
   "execution_count": null,
   "id": "67045e61-7d66-4aad-aef9-1e2d6aa6785a",
   "metadata": {
    "tags": []
   },
   "outputs": [
    {
     "name": "stdout",
     "output_type": "stream",
     "text": [
      "First Name: Libby has confidence: 0.886\n",
      "Last Name: Herold has confidence: 0.897\n",
      "Date of Birth: 1996-02-10 has confidence: 0.995\n",
      "First Name: AVKASH CHAUHAN has confidence: 0.76\n",
      "Last Name: CHAUHAN has confidence: 0.883\n",
      "Date of Birth: 1990-01-01 has confidence: 0.995\n",
      "First Name: James has confidence: 0.822\n",
      "Last Name: Jackson has confidence: 0.843\n",
      "Date of Birth: 1956-10-12 has confidence: 0.995\n",
      "First Name: James has confidence: 0.408\n",
      "Last Name: Webb has confidence: 0.69\n",
      "Date of Birth: 1970-12-15 has confidence: 0.995\n",
      "First Name: Radha has confidence: 0.821\n",
      "Last Name: SKumar has confidence: 0.906\n",
      "Date of Birth: 1994-03-05 has confidence: 0.995\n"
     ]
    }
   ],
   "source": [
    "for id_name in id_list:\n",
    "    content_url = f\"https://github.com/RyanWhitcomb-VT/automated_passenger_boarding_kiosk/blob/main/material_preparation_step/digital_id_template/ca-dl-{id_name}.png?raw=true\"\n",
    "\n",
    "    id_content_from_url = form_recognizer_client.begin_recognize_identity_documents_from_url(content_url)\n",
    "    collected_id_cards = id_content_from_url.result()\n",
    "        \n",
    "    get_id_card_details(collected_id_cards[0])\n",
    "    "
   ]
  },
  {
   "cell_type": "code",
   "execution_count": null,
   "id": "9f67b6f9-e650-4a7c-b3b5-67e14c99e9bb",
   "metadata": {},
   "outputs": [],
   "source": []
  }
 ],
 "metadata": {
  "kernelspec": {
   "display_name": "Python 3 (ipykernel)",
   "language": "python",
   "name": "python3"
  },
  "language_info": {
   "codemirror_mode": {
    "name": "ipython",
    "version": 3
   },
   "file_extension": ".py",
   "mimetype": "text/x-python",
   "name": "python",
   "nbconvert_exporter": "python",
   "pygments_lexer": "ipython3",
   "version": "3.11.0"
  }
 },
 "nbformat": 4,
 "nbformat_minor": 5
}
